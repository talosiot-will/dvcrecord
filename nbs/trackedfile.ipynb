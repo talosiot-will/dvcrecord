{
 "cells": [
  {
   "cell_type": "code",
   "execution_count": 1,
   "id": "b6569997-780d-4c11-8a4b-38fb7e10e09c",
   "metadata": {},
   "outputs": [],
   "source": [
    "# default_exp trackedfile\n",
    "# hide\n",
    "_FNAME='trackedfile'\n",
    "\n",
    "import unittest\n",
    "from unittest import mock\n",
    "from nbdev.export import notebook2script\n",
    "import os\n",
    "from tempfile import TemporaryDirectory\n",
    "\n",
    "TESTCASE = unittest.TestCase()\n",
    "_nbpath = os.path.join(_dh[0], _FNAME+'.ipynb')"
   ]
  },
  {
   "cell_type": "code",
   "execution_count": 5,
   "id": "d1a64cd4-ee54-4707-a800-3e6ffd2bbcd2",
   "metadata": {},
   "outputs": [],
   "source": [
    "#export\n",
    "import yaml\n",
    "\n",
    "from dvcrecord.utils import maybe_yaml, write_yaml\n",
    "\n",
    "class TrackedFile:\n",
    "    def __init__(self, fpath, *args, **kwargs):\n",
    "        self.fpath = fpath\n",
    "        self.args = args\n",
    "        self.kwargs = kwargs\n",
    "        self.file_obj = None\n",
    "\n",
    "    def __enter__(self):\n",
    "        self.file_obj = open(self.fpath, *self.args, **self.kwargs)\n",
    "        return self.file_obj\n",
    "\n",
    "    def __exit__(self, *args):\n",
    "        self.file_obj.close()\n",
    "\n",
    "    @classmethod\n",
    "    def from_previous_output(clz, stage, *args, pipeline_file=None, fpath=None, **kwargs):\n",
    "        key = 'outs'\n",
    "        pipeline_file = pipeline_file or  PIPELINE_FILE_DEFAULT\n",
    "        with open(pipeline_file) as p:\n",
    "            pipeline = yaml.safe_load(p)\n",
    "\n",
    "        fnames = pipeline['stages'][stage][key]\n",
    "        if fpath is not None:\n",
    "            assert fpath in fnames\n",
    "        fpath = fpath or fnames[0]\n",
    "        return clz(fpath, *args, **kwargs)\n",
    "\n",
    "    def render(self, as_yaml=False):\n",
    "        return maybe_yaml(self.fpath, as_yaml)\n"
   ]
  },
  {
   "cell_type": "code",
   "execution_count": 3,
   "id": "733be987-d373-4d10-9d54-a1bcf5b76051",
   "metadata": {},
   "outputs": [],
   "source": [
    "def test_tf():\n",
    "    with TemporaryDirectory() as tempdir:\n",
    "        fpath = os.path.join(tempdir, 'test.txt')\n",
    "\n",
    "        tf = TrackedFile(fpath, 'w')\n",
    "        with tf as fileobj:\n",
    "            fileobj.write('asdf')\n",
    "            TESTCASE.assertEqual(tf.fpath, fpath)\n",
    "\n",
    "        #the fileobj is just a normal file.  It can be read later\n",
    "        with open(fpath) as readfile:\n",
    "            TESTCASE.assertEqual('asdf', readfile.read())\n",
    "\n",
    "    TESTCASE.assertEqual(tf.render(as_yaml=False), fpath)\n",
    "test_tf()"
   ]
  },
  {
   "cell_type": "code",
   "execution_count": 6,
   "id": "f6754c79-6e54-494a-987d-5de8e662c9b0",
   "metadata": {},
   "outputs": [],
   "source": [
    "def test_previous_output():\n",
    "    dvc_pipe = {'stages':\n",
    "                    {'prep':\n",
    "                            {'cmd': 'python fake.py',\n",
    "                             'outs': ['prep-out.txt']}\n",
    "                            }\n",
    "                    }\n",
    "\n",
    "    with TemporaryDirectory() as tempdir:\n",
    "        pipeline_file = write_yaml(dvc_pipe, folder=tempdir, fname='dvc.yaml')\n",
    "\n",
    "        tf = TrackedFile.from_previous_output(stage='prep', pipeline_file=pipeline_file)\n",
    "        TESTCASE.assertEqual(tf.render(), 'prep-out.txt')\n",
    "test_previous_output()"
   ]
  },
  {
   "cell_type": "code",
   "execution_count": null,
   "id": "ace32eba-ef92-46a1-beef-840b623e893d",
   "metadata": {},
   "outputs": [],
   "source": [
    "notebook2script(_nbpath)"
   ]
  }
 ],
 "metadata": {
  "kernelspec": {
   "display_name": "Python 3",
   "language": "python",
   "name": "python3"
  },
  "language_info": {
   "codemirror_mode": {
    "name": "ipython",
    "version": 3
   },
   "file_extension": ".py",
   "mimetype": "text/x-python",
   "name": "python",
   "nbconvert_exporter": "python",
   "pygments_lexer": "ipython3",
   "version": "3.8.5"
  }
 },
 "nbformat": 4,
 "nbformat_minor": 5
}
