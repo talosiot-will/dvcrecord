{
 "cells": [
  {
   "cell_type": "code",
   "execution_count": 1,
   "id": "79cee668-e6ee-414a-9f7a-3ec4dddbe3be",
   "metadata": {},
   "outputs": [],
   "source": [
    "# default_exp deps\n",
    "# hide\n",
    "_FNAME='deps'\n",
    "\n",
    "import unittest\n",
    "from unittest import mock\n",
    "from nbdev.export import notebook2script\n",
    "import os\n",
    "TESTCASE = unittest.TestCase()\n",
    "_nbpath = os.path.join(_dh[0], _FNAME+'.ipynb')"
   ]
  },
  {
   "cell_type": "code",
   "execution_count": 23,
   "id": "b524ed2c-57e0-4eb6-9242-e2531aa0f786",
   "metadata": {},
   "outputs": [],
   "source": [
    "#export \n",
    "import collections\n",
    "import argparse\n",
    "\n",
    "from dvcrecord import TrackedFile\n",
    "from dvcrecord.utils import maybe_yaml"
   ]
  },
  {
   "cell_type": "code",
   "execution_count": 3,
   "id": "8d023c53-d3bf-4ef3-ac98-ed7e56408601",
   "metadata": {},
   "outputs": [],
   "source": [
    "#export\n",
    "\n",
    "DVC_RECORD_STRING = '--dvc_record'\n",
    "def add_dvcr_commands(parser):\n",
    "    parser.add_argument(DVC_RECORD_STRING, action='store_true', dest='dvc_record', \n",
    "                        help='Include this flag to record the dvc params entries')\n",
    "    parser.add_argument('--dvc_dep', action='append', nargs='?', \n",
    "                        help='Filepaths to the dependency inputs')\n",
    "    return parser\n",
    "\n",
    "def make_parser(parser=None):\n",
    "    parser = parser or argparse.ArgumentParser(description='Stock parser for dvcrecord commands')    \n",
    "    parser = add_dvcr_commands(parser)\n",
    "    return parser"
   ]
  },
  {
   "cell_type": "code",
   "execution_count": 4,
   "id": "1bf18892-cd6b-40c1-9825-8d7dbefa007b",
   "metadata": {},
   "outputs": [],
   "source": [
    "def test_parser():\n",
    "    parser = make_parser()\n",
    "    #add custom parser code\n",
    "    parser.add_argument(\"--athing\", type=int)\n",
    "    ns = parser.parse_args(['--athing=10', '--dvc_record'])\n",
    "    TESTCASE.assertTrue(ns.dvc_record)\n",
    "    TESTCASE.assertEqual(ns.athing, 10)\n",
    "    \n",
    "    ns2 = parser.parse_args([])\n",
    "    TESTCASE.assertFalse(ns2.dvc_record)\n",
    "test_parser()"
   ]
  },
  {
   "cell_type": "code",
   "execution_count": 5,
   "id": "7dd5922d-0e21-4951-97c3-998742659d66",
   "metadata": {},
   "outputs": [],
   "source": [
    "def test_dependency_cli():\n",
    "    parser = make_parser()\n",
    "    ns = parser.parse_args(['--dvc_dep', 'first.txt' ,'--dvc_dep', 'second.txt'])\n",
    "    TESTCASE.assertEqual(ns.dvc_dep, ['first.txt', 'second.txt'])\n",
    "\n",
    "test_dependency_cli()"
   ]
  },
  {
   "cell_type": "code",
   "execution_count": 24,
   "id": "431a12f9-a29a-4da4-9a4b-47a4ddc4b65c",
   "metadata": {},
   "outputs": [],
   "source": [
    "#export\n",
    "\n",
    "class NoArgumentNamed(Exception):\n",
    "    pass\n",
    "\n",
    "class Dependency:\n",
    "    def __init__(self, namespace=None):\n",
    "        self.namespace = namespace\n",
    "        self.deps = collections.OrderedDict({})\n",
    "        \n",
    "    def load(self, fpath, *args, **kwargs):\n",
    "        tracked_file = self.deps.setdefault(fpath, TrackedFile(fpath, *args, **kwargs))\n",
    "        return tracked_file\n",
    "        \n",
    "    def _from_cli(self, namespace=None, arg_name='dvc_dep'):\n",
    "        namespace = namespace or self.namespace\n",
    "        if namespace:\n",
    "            try:\n",
    "                return getattr(namespace, arg_name)\n",
    "            except AttributeError:\n",
    "                raise NoArgumentNamed(\"Looked for dvc file dependencies in an argument named '{}' but it wasnt in the command line\".format(arg_name))\n",
    "        else:\n",
    "            return []\n",
    "            \n",
    "    def render(self, as_yaml=False, *args, **kwargs):\n",
    "        returnme = [dep.render(as_yaml=False) for dep in self.deps.values()]\n",
    "        returnme.extend(self._from_cli(*args, **kwargs))\n",
    "        return maybe_yaml(returnme, as_yaml=as_yaml)\n",
    "        "
   ]
  },
  {
   "cell_type": "code",
   "execution_count": 29,
   "id": "19c1b13e-e12f-4cad-96c7-442fd6e7851b",
   "metadata": {},
   "outputs": [
    {
     "name": "stdout",
     "output_type": "stream",
     "text": [
      "- /tmp/tmplt7ed_ef/testdep.yaml\n",
      "- first.txt\n",
      "- second.txt\n",
      "\n"
     ]
    }
   ],
   "source": [
    "from dvcrecord.utils import write_yaml\n",
    "from tempfile import TemporaryDirectory\n",
    "\n",
    "def test_dep():    \n",
    "    parser = make_parser()\n",
    "    ns = parser.parse_args(['--dvc_dep', 'first.txt' ,'--dvc_dep', 'second.txt'])\n",
    "    dep = Dependency(namespace=ns)    \n",
    "    dep._from_cli()\n",
    "    with TESTCASE.assertRaises(NoArgumentNamed):\n",
    "        dep._from_cli(ns, arg_name='doesnotexist')\n",
    "        \n",
    "    with TemporaryDirectory() as tempdir:\n",
    "        depfile = os.path.join(tempdir, 'testdep.yaml')\n",
    "        write_yaml({'try':'me'}, tempdir, 'testdep.yaml')\n",
    "        with dep.load(depfile) as f:\n",
    "            f.read()\n",
    "        TESTCASE.assertEqual(dep.render(as_yaml=False), \n",
    "                             [depfile, 'first.txt', 'second.txt']\n",
    "                            )        \n",
    "test_dep()"
   ]
  },
  {
   "cell_type": "code",
   "execution_count": 32,
   "id": "d5ee0ae5-739d-4cba-b2a1-dddd7ff6c586",
   "metadata": {},
   "outputs": [
    {
     "name": "stdout",
     "output_type": "stream",
     "text": [
      "Converted deps.ipynb.\n"
     ]
    }
   ],
   "source": [
    "notebook2script(_nbpath)"
   ]
  }
 ],
 "metadata": {
  "kernelspec": {
   "display_name": "Python 3",
   "language": "python",
   "name": "python3"
  },
  "language_info": {
   "codemirror_mode": {
    "name": "ipython",
    "version": 3
   },
   "file_extension": ".py",
   "mimetype": "text/x-python",
   "name": "python",
   "nbconvert_exporter": "python",
   "pygments_lexer": "ipython3",
   "version": "3.8.5"
  }
 },
 "nbformat": 4,
 "nbformat_minor": 5
}
