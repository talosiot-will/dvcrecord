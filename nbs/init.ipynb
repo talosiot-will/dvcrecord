{
 "cells": [
  {
   "cell_type": "code",
   "execution_count": null,
   "id": "ae711a24-bd9b-43f1-9ff2-a3314c4731fc",
   "metadata": {},
   "outputs": [],
   "source": [
    "# default_exp __init__\n",
    "# hide\n",
    "_FNAME='init'\n",
    "\n",
    "import unittest\n",
    "from unittest import mock\n",
    "from nbdev.export import notebook2script\n",
    "import os\n",
    "TESTCASE = unittest.TestCase()\n",
    "_nbpath = os.path.join(_dh[0], _FNAME+'.ipynb')"
   ]
  },
  {
   "cell_type": "code",
   "execution_count": null,
   "id": "43a6c103-e0c2-4fd3-bd00-85f11b2f35f2",
   "metadata": {},
   "outputs": [],
   "source": [
    "#export\n",
    "\n",
    "from dvcrecord.stage import PipelineStage"
   ]
  },
  {
   "cell_type": "code",
   "execution_count": null,
   "id": "22662646-b2f4-47f9-bc4b-dc363650798b",
   "metadata": {},
   "outputs": [
    {
     "name": "stdout",
     "output_type": "stream",
     "text": [
      "Converted init.ipynb.\n"
     ]
    }
   ],
   "source": [
    "notebook2script(_nbpath)"
   ]
  }
 ],
 "metadata": {
  "kernelspec": {
   "display_name": "Python 3",
   "language": "python",
   "name": "python3"
  }
 },
 "nbformat": 4,
 "nbformat_minor": 5
}
