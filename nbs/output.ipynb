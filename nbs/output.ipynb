{
 "cells": [
  {
   "cell_type": "code",
   "execution_count": 13,
   "id": "48a657a4-2d10-490e-b864-995ea47cd939",
   "metadata": {},
   "outputs": [],
   "source": [
    "# default_exp output\n",
    "# hide\n",
    "_FNAME='output'\n",
    "\n",
    "import unittest\n",
    "from unittest import mock\n",
    "from nbdev.export import notebook2script\n",
    "import os\n",
    "TESTCASE = unittest.TestCase()\n",
    "_nbpath = os.path.join(_dh[0], _FNAME+'.ipynb')"
   ]
  },
  {
   "cell_type": "code",
   "execution_count": 14,
   "id": "e3458865-f30c-482a-8960-0bf7ccd09806",
   "metadata": {},
   "outputs": [],
   "source": [
    "#export\n",
    "import collections\n",
    "from dvcrecord.utils import maybe_yaml\n",
    "from dvcrecord.trackedfile import TrackedFile\n",
    "\n",
    "class Output:\n",
    "    def __init__(self):\n",
    "        self.out_files = collections.OrderedDict({})\n",
    "\n",
    "    def load(self, fpath, *args, **kwargs):\n",
    "        '''\n",
    "        Returns a file or directory name and records it\n",
    "        '''\n",
    "        tracked_file = self.out_files.setdefault(fpath, TrackedFile(fpath, *args, **kwargs))\n",
    "        return tracked_file\n",
    "\n",
    "    def render(self, as_yaml=False):\n",
    "        returnme = [out_file.render(as_yaml=False) for out_file in self.out_files.values()]\n",
    "        return maybe_yaml(returnme, as_yaml=as_yaml)\n"
   ]
  },
  {
   "cell_type": "code",
   "execution_count": 15,
   "id": "f408aaa7-0192-48f2-bb8e-7eb9890bab2a",
   "metadata": {},
   "outputs": [],
   "source": [
    "from tempfile import TemporaryDirectory\n",
    "def test_output():\n",
    "    with TemporaryDirectory() as tempdir:\n",
    "        outs = Output()\n",
    "\n",
    "        outfile = os.path.join(tempdir, 'testout.txt')\n",
    "        with outs.load(outfile, 'w') as f:\n",
    "            f.write('asdf')\n",
    "\n",
    "        TESTCASE.assertEqual(outs.render(), [outfile])\n",
    "test_output()"
   ]
  },
  {
   "cell_type": "code",
   "execution_count": 17,
   "id": "7057be24-f7da-4376-ba55-364c7cebbf0e",
   "metadata": {},
   "outputs": [
    {
     "name": "stdout",
     "output_type": "stream",
     "text": [
      "Converted output.ipynb.\n"
     ]
    }
   ],
   "source": [
    "notebook2script(_nbpath)"
   ]
  }
 ],
 "metadata": {
  "kernelspec": {
   "display_name": "Python 3",
   "language": "python",
   "name": "python3"
  },
  "language_info": {
   "codemirror_mode": {
    "name": "ipython",
    "version": 3
   },
   "file_extension": ".py",
   "mimetype": "text/x-python",
   "name": "python",
   "nbconvert_exporter": "python",
   "pygments_lexer": "ipython3",
   "version": "3.8.5"
  }
 },
 "nbformat": 4,
 "nbformat_minor": 5
}
