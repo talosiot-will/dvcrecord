{
 "cells": [
  {
   "cell_type": "code",
   "execution_count": null,
   "id": "48a657a4-2d10-490e-b864-995ea47cd939",
   "metadata": {},
   "outputs": [],
   "source": [
    "# default_exp output\n",
    "# hide\n",
    "_FNAME='output'\n",
    "\n",
    "import unittest\n",
    "from unittest import mock\n",
    "from nbdev.export import notebook2script\n",
    "import os\n",
    "TESTCASE = unittest.TestCase()\n",
    "_nbpath = os.path.join(_dh[0], _FNAME+'.ipynb')"
   ]
  },
  {
   "cell_type": "code",
   "execution_count": null,
   "id": "e3458865-f30c-482a-8960-0bf7ccd09806",
   "metadata": {},
   "outputs": [],
   "source": [
    "#export\n",
    "import os\n",
    "import collections\n",
    "from dvcrecord.utils import maybe_yaml\n",
    "\n",
    "class Output:\n",
    "    def __init__(self):\n",
    "        self.out_files = []\n",
    "\n",
    "    def register(self, *args):\n",
    "        fpath = os.path.join(*args)\n",
    "        if fpath not in self.out_files:\n",
    "            self.out_files.append(fpath)\n",
    "        return fpath\n",
    "\n",
    "    def render(self, as_yaml=False):\n",
    "        return maybe_yaml(self.out_files, as_yaml=as_yaml)\n"
   ]
  },
  {
   "cell_type": "code",
   "execution_count": null,
   "id": "f408aaa7-0192-48f2-bb8e-7eb9890bab2a",
   "metadata": {},
   "outputs": [],
   "source": [
    "from tempfile import TemporaryDirectory\n",
    "def test_output():\n",
    "    with TemporaryDirectory() as tempdir:\n",
    "        outs = Output()\n",
    "\n",
    "        outfile = os.path.join(tempdir, 'testout.txt')\n",
    "        outs.register(outfile)\n",
    "        with open(outfile, 'w') as f:\n",
    "            f.write('asdf')\n",
    "\n",
    "        TESTCASE.assertEqual(outs.render(), [outfile])\n",
    "test_output()"
   ]
  },
  {
   "cell_type": "code",
   "execution_count": null,
   "id": "7057be24-f7da-4376-ba55-364c7cebbf0e",
   "metadata": {},
   "outputs": [
    {
     "name": "stdout",
     "output_type": "stream",
     "text": [
      "Converted output.ipynb.\n"
     ]
    }
   ],
   "source": [
    "notebook2script(_nbpath)"
   ]
  }
 ],
 "metadata": {
  "kernelspec": {
   "display_name": "Python 3",
   "language": "python",
   "name": "python3"
  }
 },
 "nbformat": 4,
 "nbformat_minor": 5
}
