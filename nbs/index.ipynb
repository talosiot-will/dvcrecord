{
 "cells": [
  {
   "cell_type": "code",
   "execution_count": null,
   "metadata": {},
   "outputs": [],
   "source": [
    "#hide\n"
   ]
  },
  {
   "cell_type": "markdown",
   "metadata": {},
   "source": [
    "# Talos Repo Template\n",
    "\n",
    "> Starting a new python project?  Start with this template."
   ]
  },
  {
   "cell_type": "markdown",
   "metadata": {},
   "source": [
    "## Install\n",
    "```bash\n",
    "git clone https://github.com/talosiot-will/repo_template.git\n",
    "mv repo_template $new_repo_name\n",
    "cd $new_repo_name\n",
    "rm -rf .git\n",
    "```\n",
    "\n",
    "Then edit the `settings.ini`"
   ]
  }
 ],
 "metadata": {
  "kernelspec": {
   "display_name": "Python 3",
   "language": "python",
   "name": "python3"
  }
 },
 "nbformat": 4,
 "nbformat_minor": 4
}
