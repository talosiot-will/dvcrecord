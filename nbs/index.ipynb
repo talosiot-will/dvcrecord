{
 "cells": [
  {
   "cell_type": "code",
   "execution_count": null,
   "metadata": {},
   "outputs": [],
   "source": [
    "#hide\n"
   ]
  },
  {
   "cell_type": "markdown",
   "metadata": {},
   "source": [
    "# DVC Recorder\n",
    "\n",
    "> Making DVC a little more DRY"
   ]
  },
  {
   "cell_type": "markdown",
   "metadata": {},
   "source": [
    "I love DVC and when using it I found that I had to repeat myself more often than I'd like. Parameter names and file names often appeared in two or three different places, in code and in config files.  Let's DRY up DVC and give it a single source of truth."
   ]
  },
  {
   "cell_type": "markdown",
   "metadata": {},
   "source": [
    "## Install\n",
    "\n",
    "Make sure you have virtualenv and then\n",
    "\n",
    "```bash\n",
    "git clone https://github.com/talosiot-will/dvcrecord.git\n",
    "cd dvcrecord\n",
    "make env\n",
    "```"
   ]
  },
  {
   "cell_type": "markdown",
   "metadata": {},
   "source": [
    "## Quick Start\n",
    "\n",
    "We'll pick up where the tutorial left off.  Since the point of this exercise is not to show off DVC's nifty large dataset handling abilities, we'll use a very truncated `data.xml`.  Below is the original `prepare.py`"
   ]
  },
  {
   "cell_type": "markdown",
   "metadata": {},
   "source": [
    "```python\n",
    "import io\n",
    "import sys\n",
    "import xml.etree.ElementTree\n",
    "import random\n",
    "import re\n",
    "import os\n",
    "import yaml\n",
    "\n",
    "params = yaml.safe_load(open('params.yaml'))['prepare']\n",
    "\n",
    "if len(sys.argv) != 2:\n",
    "    sys.stderr.write(\"Arguments error. Usage:\\n\")\n",
    "    sys.stderr.write(\"\\tpython prepare.py data-file\\n\")\n",
    "    sys.exit(1)\n",
    "\n",
    "# Test data set split ratio\n",
    "split = params['split']\n",
    "random.seed(params['seed'])\n",
    "\n",
    "input = sys.argv[1]\n",
    "output_train = os.path.join('data', 'prepared', 'train.tsv')\n",
    "output_test = os.path.join('data', 'prepared', 'test.tsv')\n",
    "\n",
    "\n",
    "def process_posts(fd_in, fd_out_train, fd_out_test, target_tag):\n",
    "    num = 1\n",
    "    for line in fd_in:\n",
    "        try:\n",
    "            fd_out = fd_out_train if random.random() > split else fd_out_test\n",
    "            attr = xml.etree.ElementTree.fromstring(line).attrib\n",
    "\n",
    "            pid = attr.get('Id', '')\n",
    "            label = 1 if target_tag in attr.get('Tags', '') else 0\n",
    "            title = re.sub(r'\\s+', ' ', attr.get('Title', '')).strip()\n",
    "            body = re.sub(r'\\s+', ' ', attr.get('Body', '')).strip()\n",
    "            text = title + ' ' + body\n",
    "\n",
    "            fd_out.write(u'{}\\t{}\\t{}\\n'.format(pid, label, text))\n",
    "\n",
    "            num += 1\n",
    "        except Exception as ex:\n",
    "            sys.stderr.write(f'Skipping the broken line {num}: {ex}\\n')\n",
    "\n",
    "\n",
    "os.makedirs(os.path.join('data', 'prepared'), exist_ok=True)\n",
    "\n",
    "with io.open(input, encoding='utf8') as fd_in:\n",
    "    with io.open(output_train, 'w', encoding='utf8') as fd_out_train:\n",
    "        with io.open(output_test, 'w', encoding='utf8') as fd_out_test:\n",
    "            process_posts(fd_in, fd_out_train, fd_out_test, '<python>')\n",
    "\n",
    "```"
   ]
  },
  {
   "cell_type": "markdown",
   "metadata": {},
   "source": [
    "Which if you run with the command \n",
    "```bash\n",
    "dvc run -n prepare \\\n",
    "          -p prepare.seed,prepare.split \\\n",
    "          -d src/prepare.py -d data/data.xml \\\n",
    "          -o data/prepared \\\n",
    "          python src/prepare.py data/data.xml\n",
    "```"
   ]
  },
  {
   "cell_type": "markdown",
   "metadata": {},
   "source": [
    "will yield the `dvc.yaml` file\n",
    "```yaml\n",
    "stages:\n",
    "  prepare:\n",
    "    cmd: python src/prepare.py data/data.xml\n",
    "    deps:\n",
    "    - data/data.xml\n",
    "    - src/prepare/main.py\n",
    "    - src/prepare/params.py\n",
    "    params:\n",
    "    - prepare.seed\n",
    "    - prepare.split\n",
    "    outs:\n",
    "    - data/prepared\n",
    "```"
   ]
  }
 ],
 "metadata": {
  "kernelspec": {
   "display_name": "Python 3",
   "language": "python",
   "name": "python3"
  },
  "language_info": {
   "codemirror_mode": {
    "name": "ipython",
    "version": 3
   },
   "file_extension": ".py",
   "mimetype": "text/x-python",
   "name": "python",
   "nbconvert_exporter": "python",
   "pygments_lexer": "ipython3",
   "version": "3.8.5"
  }
 },
 "nbformat": 4,
 "nbformat_minor": 4
}
