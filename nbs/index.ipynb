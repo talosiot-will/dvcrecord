{
 "cells": [
  {
   "cell_type": "code",
   "execution_count": null,
   "metadata": {},
   "outputs": [],
   "source": [
    "#hide\n"
   ]
  },
  {
   "cell_type": "markdown",
   "metadata": {},
   "source": [
    "# DVC Recorder\n",
    "\n",
    "> Making DVC a little more DRY"
   ]
  },
  {
   "cell_type": "markdown",
   "metadata": {},
   "source": [
    "I love DVC and when using it I found that I had to repeat myself more often than I'd like. Parameter names and file names often appeared in two or three different places, in code and in config files.  Let's DRY up DVC and give it a single source of truth."
   ]
  },
  {
   "cell_type": "markdown",
   "metadata": {},
   "source": [
    "## Install\n",
    "\n",
    "Make sure you have virtualenv and then\n",
    "\n",
    "```bash\n",
    "git clone https://github.com/talosiot-will/dvcrecord.git\n",
    "cd dvcrecord\n",
    "make env\n",
    "```"
   ]
  },
  {
   "cell_type": "markdown",
   "metadata": {},
   "source": [
    "## Walkthrough\n",
    "\n",
    "We'll pick up where the tutorial left off.  Since the point of this exercise is not to show off DVC's nifty large dataset handling abilities, we'll use a very truncated `data.xml` that's part of this repository.  Below is a snippet of `prepare.py`"
   ]
  },
  {
   "cell_type": "markdown",
   "metadata": {},
   "source": [
    "```python\n",
    "#<A bunch of imports> \n",
    "\n",
    "# =============================\n",
    "#load your params, input, and output files\n",
    "params = yaml.safe_load(open('params.yaml'))['prepare']\n",
    "\n",
    "if len(sys.argv) != 2:\n",
    "    sys.stderr.write(\"Arguments error. Usage:\\n\")\n",
    "    sys.stderr.write(\"\\tpython prepare.py data-file\\n\")\n",
    "    sys.exit(1)\n",
    "\n",
    "# Test data set split ratio\n",
    "split = params['split']\n",
    "random.seed(params['seed'])\n",
    "\n",
    "input = sys.argv[1]\n",
    "output_train = os.path.join('data', 'prepared', 'train.tsv')\n",
    "output_test = os.path.join('data', 'prepared', 'test.tsv')\n",
    "\n",
    "def process_posts(fd_in, fd_out_train, fd_out_test, target_tag):\n",
    "    # << function logic goes here.  I skipped it >>\n",
    "    pass\n",
    "\n",
    "## read and write files\n",
    "os.makedirs(os.path.join('data', 'prepared'), exist_ok=True)\n",
    "\n",
    "with io.open(input, encoding='utf8') as fd_in:\n",
    "    with io.open(output_train, 'w', encoding='utf8') as fd_out_train:\n",
    "        with io.open(output_test, 'w', encoding='utf8') as fd_out_test:\n",
    "            process_posts(fd_in, fd_out_train, fd_out_test, '<python>')\n",
    "\n",
    "```"
   ]
  },
  {
   "cell_type": "markdown",
   "metadata": {},
   "source": [
    "Which if you run with the command \n",
    "```bash\n",
    "dvc run -n prepare \\\n",
    "          -p prepare.seed,prepare.split \\\n",
    "          -d src/prepare.py -d data/data.xml \\\n",
    "          -o data/prepared \\\n",
    "          python src/prepare.py data/data.xml\n",
    "```"
   ]
  },
  {
   "cell_type": "markdown",
   "metadata": {},
   "source": [
    "will yield the `dvc.yaml` file\n",
    "```yaml\n",
    "stages:\n",
    "  prepare:\n",
    "    cmd: python src/prepare.py data/data.xml\n",
    "    deps:\n",
    "    - data/data.xml\n",
    "    - src/prepare/main.py\n",
    "    - src/prepare/params.py\n",
    "    params:\n",
    "    - prepare.seed\n",
    "    - prepare.split\n",
    "    outs:\n",
    "    - data/prepared\n",
    "```"
   ]
  },
  {
   "cell_type": "markdown",
   "metadata": {},
   "source": [
    "There's a lot of repetition there.  The single source of truth for which parameters you need is your python source code file.  You have to repeat that information in the `dvc run` command, which then gets logged in the `dvc.yaml` file.  Similarly with the output folder, the path appears both in code and again in the command line argument.  Let's try to clean that up a bit."
   ]
  },
  {
   "cell_type": "markdown",
   "metadata": {},
   "source": [
    "Copy `prepare.py` to a new file we'll call `prepare-dvcr.py` and let's edit the new file.  We'll introduce a tiny bit of machinery to manage this stage of the pipeline.\n",
    "\n",
    "```python\n",
    "from dvcrecord import PipelineStage\n",
    "stage = PipelineStage('prepare')\n",
    "```\n",
    "\n",
    "That object will help us load our parameters\n",
    "\n",
    "```python\n",
    "split = stage.params.load('prepare.split')\n",
    "random.seed(stage.params.load('prepare.seed'))\n",
    "```\n",
    "\n",
    "We can load the input_file straight a the command line argument.\n",
    "```python\n",
    "input_file = stage.deps.from_cli()[0]\n",
    "```\n",
    "And we register our output folder.\n",
    "```python\n",
    "output_folder = stage.outputs.register('data', 'prepared')\n",
    "output_test = os.path.join(output_folder, 'test.tsv')\n",
    "output_train = os.path.join(output_folder, 'train.tsv')\n",
    "```"
   ]
  },
  {
   "cell_type": "markdown",
   "metadata": {},
   "source": [
    "That's it.  Now we don't have to repeat outselves in the `dvc run` command.  Instead you can just run it like a normal python program, with a few special command line arguments.  Specify the dependent file directly with the flag `--dvc_dep`.  Specify that you'd like the output sent to a `dvc.yaml` file with `--dvc_record`.\n",
    "\n",
    "```\n",
    ">> python prepare-dvcr.py --dvc_dep data/data.xml --dvc_record\n",
    "```\n",
    "\n",
    "It automatically knows that your code is dependent on the original source file (the one being run in the command line) as well as any paramater files you've used."
   ]
  },
  {
   "cell_type": "code",
   "execution_count": null,
   "metadata": {},
   "outputs": [],
   "source": []
  }
 ],
 "metadata": {
  "kernelspec": {
   "display_name": "Python 3",
   "language": "python",
   "name": "python3"
  },
  "language_info": {
   "codemirror_mode": {
    "name": "ipython",
    "version": 3
   },
   "file_extension": ".py",
   "mimetype": "text/x-python",
   "name": "python",
   "nbconvert_exporter": "python",
   "pygments_lexer": "ipython3",
   "version": "3.8.5"
  }
 },
 "nbformat": 4,
 "nbformat_minor": 4
}
