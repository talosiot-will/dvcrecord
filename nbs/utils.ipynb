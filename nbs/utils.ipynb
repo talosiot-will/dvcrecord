{
 "cells": [
  {
   "cell_type": "code",
   "execution_count": 1,
   "id": "cb44fbd3-3465-443b-ac1f-90e86f348b3a",
   "metadata": {},
   "outputs": [],
   "source": [
    "# default_exp utils\n",
    "# hide\n",
    "_FNAME='utils'\n",
    "\n",
    "import unittest\n",
    "from unittest import mock\n",
    "from nbdev.export import notebook2script\n",
    "import os\n",
    "TESTCASE = unittest.TestCase()\n",
    "_nbpath = os.path.join(_dh[0], _FNAME+'.ipynb')"
   ]
  },
  {
   "cell_type": "code",
   "execution_count": 7,
   "id": "4a23e490-77f3-4e70-8919-32a73b3f8c66",
   "metadata": {},
   "outputs": [],
   "source": [
    "#export\n",
    "import os\n",
    "import yaml\n",
    "\n",
    "PARAMS_FILE_DEFAULT = os.environ.get('DVC_PARAMETERS_FILE', 'params.yaml')\n",
    "PIPELINE_FILE_DEFAULT = os.environ.get('DVC_PIPELINE_FILE', 'dvc.yaml')\n",
    "\n",
    "\n",
    "def maybe_yaml(data, as_yaml=False):\n",
    "    if as_yaml:\n",
    "        return yaml.dump(data)\n",
    "    return data\n",
    "\n",
    "def write_yaml(params, folder='', fname='params.yaml'):\n",
    "    fpath = os.path.join(folder, fname)\n",
    "    with open(fpath, 'w') as f:\n",
    "        yaml.dump(params, f)\n",
    "    return fpath"
   ]
  },
  {
   "cell_type": "code",
   "execution_count": 9,
   "id": "f9e35803-c08a-4525-a283-22fc42472ac4",
   "metadata": {},
   "outputs": [
    {
     "name": "stdout",
     "output_type": "stream",
     "text": [
      "Converted utils.ipynb.\n"
     ]
    }
   ],
   "source": [
    "notebook2script(_nbpath)"
   ]
  }
 ],
 "metadata": {
  "kernelspec": {
   "display_name": "Python 3",
   "language": "python",
   "name": "python3"
  },
  "language_info": {
   "codemirror_mode": {
    "name": "ipython",
    "version": 3
   },
   "file_extension": ".py",
   "mimetype": "text/x-python",
   "name": "python",
   "nbconvert_exporter": "python",
   "pygments_lexer": "ipython3",
   "version": "3.8.5"
  }
 },
 "nbformat": 4,
 "nbformat_minor": 5
}
