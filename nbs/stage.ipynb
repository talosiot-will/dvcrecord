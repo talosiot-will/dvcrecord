{
 "cells": [
  {
   "cell_type": "code",
   "execution_count": 1,
   "id": "48a657a4-2d10-490e-b864-995ea47cd939",
   "metadata": {},
   "outputs": [],
   "source": [
    "# default_exp stage\n",
    "# hide\n",
    "_FNAME='stage'\n",
    "\n",
    "import unittest\n",
    "from unittest import mock\n",
    "from nbdev.export import notebook2script\n",
    "import os\n",
    "TESTCASE = unittest.TestCase()\n",
    "_nbpath = os.path.join(_dh[0], _FNAME+'.ipynb')"
   ]
  },
  {
   "cell_type": "code",
   "execution_count": 2,
   "id": "073699ff-08db-49b2-8341-f4bdb6d5b97d",
   "metadata": {},
   "outputs": [],
   "source": [
    "#export\n",
    "import sys\n",
    "import yaml\n",
    "\n",
    "from dvcrecord.params import Params\n",
    "from dvcrecord.deps import Dependency, make_parser, DVC_RECORD_STRING\n",
    "from dvcrecord.output import Output\n",
    "from dvcrecord.utils import maybe_yaml, PIPELINE_FILE_DEFAULT\n",
    "\n",
    "class PipelineStage:\n",
    "    def __init__(self, name, params=None, outputs=None, deps=None, parser=None):\n",
    "        self.name = name\n",
    "        self.parser = parser\n",
    "        \n",
    "        self.outputs = outputs or Output()\n",
    "        self.params = params or Params()\n",
    "        self.deps = deps or Dependency(namespace=self.parse_args())\n",
    "        \n",
    "        self.rendering_funcs = {\n",
    "            'params': self.params.render,\n",
    "            'deps': self.deps.render,\n",
    "            'outs': self.outputs.render\n",
    "            }\n",
    "        \n",
    "    def parse_args(self, *args, **kwargs):\n",
    "        if self.parser is None:\n",
    "            return None\n",
    "        else:\n",
    "            return self.parser.parse_args(*args, **kwargs)\n",
    "        \n",
    "    def render_cmd(self, cli_args=None):\n",
    "        cli_args = cli_args or sys.argv[:]\n",
    "        return ' '.join([arg for arg in cli_args if arg!=DVC_RECORD_STRING])\n",
    "        \n",
    "    def render(self, as_yaml=False):\n",
    "        dvc_config = {}\n",
    "        \n",
    "        for key, render_func in self.rendering_funcs.items():\n",
    "            this_yaml = render_func(as_yaml=False)\n",
    "            if this_yaml:\n",
    "                dvc_config[key] = this_yaml\n",
    "            \n",
    "        dvc_config['cmd'] = self.render_cmd()\n",
    "        return maybe_yaml(dvc_config, as_yaml=as_yaml)\n",
    "    \n",
    "    def write(self, pipefile=None):\n",
    "        pipefile = pipefile or PIPELINE_FILE_DEFAULT\n",
    "        try:\n",
    "            with open(pipefile, 'r') as f:\n",
    "                pipeline = yaml.safe_load(f)\n",
    "        except FileNotFoundError:\n",
    "            pipeline = {'stages': {}}\n",
    "            \n",
    "        pipeline['stages'][self.name] = self.render(as_yaml=False)\n",
    "        write_yaml(pipeline, fname=pipefile)\n",
    "        return pipeline        \n",
    "\n",
    "import os\n",
    "from tempfile import TemporaryDirectory\n",
    "from dvcrecord.utils import write_yaml\n",
    "\n",
    "def test_stage():\n",
    "    ps = PipelineStage(name='unittest')\n",
    "    with TemporaryDirectory() as tempdir:\n",
    "        \n",
    "        #set up param files\n",
    "        params = {'myval': 1, 'stagename': {'otherval': 2}}\n",
    "        param_file_1 = write_yaml(params, folder=tempdir, fname='params.yaml')\n",
    "        params2 = {'epochs': 1000}\n",
    "        param_file_2 = write_yaml(params2, folder=tempdir, fname='moreparams.yaml')\n",
    "\n",
    "        TESTCASE.assertEqual(ps.params.load(param_file_1+\":myval\"), 1)\n",
    "        TESTCASE.assertEqual(ps.params.load(param_file_2+\":epochs\"), 1000)\n",
    "        \n",
    "        #use\n",
    "        infile_path = write_yaml({\"input\": \"data\"}, folder=tempdir, fname='input.data')\n",
    "        with ps.deps.load(infile_path) as infile:\n",
    "            infile.read()\n",
    "       \n",
    "        outfile_path = write_yaml({\"output\": \"data\"}, folder=tempdir, fname='output.data')\n",
    "        with ps.outputs.load(outfile_path) as outfile:\n",
    "            outfile.read()\n",
    "\n",
    "        pipefile=os.path.join(tempdir, 'dvc.yaml')\n",
    "        ps.write(pipefile)\n",
    "        \n",
    "test_stage()    "
   ]
  },
  {
   "cell_type": "code",
   "execution_count": 3,
   "id": "7057be24-f7da-4376-ba55-364c7cebbf0e",
   "metadata": {},
   "outputs": [
    {
     "name": "stdout",
     "output_type": "stream",
     "text": [
      "Converted stage.ipynb.\n"
     ]
    }
   ],
   "source": [
    "notebook2script(_nbpath)"
   ]
  }
 ],
 "metadata": {
  "kernelspec": {
   "display_name": "Python 3",
   "language": "python",
   "name": "python3"
  },
  "language_info": {
   "codemirror_mode": {
    "name": "ipython",
    "version": 3
   },
   "file_extension": ".py",
   "mimetype": "text/x-python",
   "name": "python",
   "nbconvert_exporter": "python",
   "pygments_lexer": "ipython3",
   "version": "3.8.5"
  }
 },
 "nbformat": 4,
 "nbformat_minor": 5
}
