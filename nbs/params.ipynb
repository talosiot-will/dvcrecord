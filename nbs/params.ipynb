{
 "cells": [
  {
   "cell_type": "code",
   "execution_count": 6,
   "id": "b67564cd-679d-4454-aa88-a710b3c9a18f",
   "metadata": {},
   "outputs": [],
   "source": [
    "# default_exp params\n",
    "# hide\n",
    "_FNAME='params'\n",
    "\n",
    "import unittest\n",
    "from unittest import mock\n",
    "from nbdev.export import notebook2script\n",
    "import os\n",
    "from tempfile import TemporaryDirectory\n",
    "\n",
    "TESTCASE = unittest.TestCase()\n",
    "_nbpath = os.path.join(_dh[0], _FNAME+'.ipynb')"
   ]
  },
  {
   "cell_type": "code",
   "execution_count": 10,
   "id": "59992491-6c58-4269-aaaa-13ed385b0b26",
   "metadata": {},
   "outputs": [],
   "source": [
    "#export\n",
    "import collections\n",
    "import yaml\n",
    "\n",
    "from dvcrecord.utils import PARAMS_FILE_DEFAULT, maybe_yaml, write_yaml\n",
    "\n",
    "class ParamFile:\n",
    "    def __init__(self, fpath=None):\n",
    "        self._accessed = collections.OrderedDict()\n",
    "\n",
    "        self.fpath = fpath or PARAMS_FILE_DEFAULT\n",
    "        #no support for .py params just yet.  Could pick up from the file extension\n",
    "        #or just reuse the logic directly from the dvc library\n",
    "        with open(self.fpath) as f:\n",
    "            self._file_contents = yaml.safe_load(f)\n",
    "\n",
    "    def load(self, name):\n",
    "        try:\n",
    "            return self._accessed[name]\n",
    "        except KeyError:\n",
    "            returnme = self._file_contents\n",
    "            for key in name.split('.'):\n",
    "                returnme = returnme[key]\n",
    "\n",
    "            self._accessed[name] = returnme\n",
    "            return returnme\n",
    "\n",
    "    def render(self, as_yaml=False):\n",
    "        keys = list(self._accessed.keys())\n",
    "        returnme = {self.fpath: keys}\n",
    "        return maybe_yaml(returnme, as_yaml=as_yaml)"
   ]
  },
  {
   "cell_type": "code",
   "execution_count": 11,
   "id": "4e9db0ec-3819-4ee5-a022-1372ce59f9c3",
   "metadata": {},
   "outputs": [],
   "source": [
    "def test_paramfile():\n",
    "    with TemporaryDirectory() as tempdir:\n",
    "        params = {'myval': 1, 'stagename': {'otherval': 2}}\n",
    "\n",
    "        fpath = write_yaml(params, folder=tempdir, fname='params.yaml')\n",
    "        p = ParamFile(fpath)\n",
    "        TESTCASE.assertEqual(p.load('myval'), 1)\n",
    "        TESTCASE.assertEqual(p.load('stagename.otherval'), 2)\n",
    "\n",
    "        TESTCASE.assertEqual(p.render(as_yaml=False), {os.path.join(tempdir, 'params.yaml'): ['myval', 'stagename.otherval']})\n",
    "test_paramfile()"
   ]
  },
  {
   "cell_type": "code",
   "execution_count": 12,
   "id": "f9dddeed-f1d6-4439-82eb-b5b9c7be05c0",
   "metadata": {},
   "outputs": [],
   "source": [
    "#export\n",
    "class Params:\n",
    "    def __init__(self, param_files=None):\n",
    "        '''\n",
    "        param_files: Iterable of ParamFile\n",
    "        '''\n",
    "        self._params = collections.OrderedDict({})\n",
    "        param_files = param_files or []\n",
    "        [self.register(param_file) for param_file in param_files]\n",
    "\n",
    "    def render(self, as_yaml=False):\n",
    "        params_config = []\n",
    "        for name, param in self._params.items():\n",
    "            params_config.extend([param.render(as_yaml=False)])\n",
    "        return maybe_yaml(params_config, as_yaml=as_yaml)\n",
    "\n",
    "    def register(self, param, name=None):\n",
    "        name = name or param.fpath\n",
    "        self._params[name] = param\n",
    "\n",
    "    def load(self, path):\n",
    "        '''\n",
    "        Lazily access parameters in files\n",
    "        filename:paramname\n",
    "        e.g. my/dir/params.yaml: epochs\n",
    "        '''\n",
    "        sep = ':'\n",
    "        if sep in path:\n",
    "            fname, param_name = path.split(sep)\n",
    "        else:\n",
    "            fname = PARAMS_FILE_DEFAULT\n",
    "            param_name = path\n",
    "\n",
    "        fname = fname.strip()\n",
    "        param_name = param_name.strip()\n",
    "\n",
    "        try:\n",
    "            pf = self._params[fname]\n",
    "        except KeyError:\n",
    "            pf = ParamFile(fpath=fname)\n",
    "            self.register(pf)\n",
    "\n",
    "        return pf.load(param_name)\n"
   ]
  },
  {
   "cell_type": "code",
   "execution_count": 14,
   "id": "62c67957-e0ca-4573-82eb-c41296f0d529",
   "metadata": {},
   "outputs": [],
   "source": [
    "\n",
    "def test_params():\n",
    "    with TemporaryDirectory() as tempdir:\n",
    "        param1 = {'one': 1}\n",
    "        param2 = {'two': 2}\n",
    "\n",
    "        onepath = write_yaml(param1, folder=tempdir, fname='one.yaml')\n",
    "        twopath = write_yaml(param2, folder=tempdir, fname='two.yaml')\n",
    "\n",
    "        p = Params()\n",
    "        TESTCASE.assertEqual(p.load(onepath+':one'), 1)\n",
    "        TESTCASE.assertEqual(p.load(twopath+':two'), 2)\n",
    "\n",
    "        TESTCASE.assertEqual(p.render(as_yaml=False),\n",
    "                [\n",
    "                    {onepath:\n",
    "                            ['one']},\n",
    "                    {twopath:\n",
    "                            ['two']}\n",
    "                ])\n",
    "test_params()"
   ]
  },
  {
   "cell_type": "code",
   "execution_count": 2,
   "id": "4c003a7e-e47a-4997-a63e-6dc284856650",
   "metadata": {},
   "outputs": [
    {
     "name": "stdout",
     "output_type": "stream",
     "text": [
      "Converted params.ipynb.\n"
     ]
    }
   ],
   "source": [
    "notebook2script(_nbpath)"
   ]
  }
 ],
 "metadata": {
  "kernelspec": {
   "display_name": "Python 3",
   "language": "python",
   "name": "python3"
  },
  "language_info": {
   "codemirror_mode": {
    "name": "ipython",
    "version": 3
   },
   "file_extension": ".py",
   "mimetype": "text/x-python",
   "name": "python",
   "nbconvert_exporter": "python",
   "pygments_lexer": "ipython3",
   "version": "3.8.5"
  }
 },
 "nbformat": 4,
 "nbformat_minor": 5
}
